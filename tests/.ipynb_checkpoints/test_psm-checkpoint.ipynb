{
 "cells": [
  {
   "cell_type": "code",
   "execution_count": 1,
   "metadata": {},
   "outputs": [],
   "source": [
    "import os\n",
    "import time\n",
    "import numpy as np\n",
    "from tqdm import tqdm\n",
    "\n",
    "import pybullet as p\n",
    "import pybullet_data\n",
    "from surrol.utils.pybullet_utils import (\n",
    "    step,\n",
    "    get_joints,\n",
    "    get_link_name,\n",
    "    reset_camera,\n",
    ")\n",
    "from surrol.robots.psm import Psm"
   ]
  },
  {
   "cell_type": "code",
   "execution_count": 2,
   "metadata": {},
   "outputs": [],
   "source": [
    "scaling = 1.\n",
    "\n",
    "p.connect(p.GUI)\n",
    "# p.connect(p.DIRECT)\n",
    "p.setGravity(0, 0, -9.81)\n",
    "p.setAdditionalSearchPath(pybullet_data.getDataPath())\n",
    "reset_camera(yaw=90, pitch=-15, dist=0.9*scaling)\n",
    "\n",
    "# p.setPhysicsEngineParameter(contactBreakingThreshold=0.002)"
   ]
  },
  {
   "cell_type": "code",
   "execution_count": 3,
   "metadata": {
    "scrolled": true
   },
   "outputs": [
    {
     "data": {
      "text/plain": [
       "(0, 0, 0.1, 0, 0, 0)"
      ]
     },
     "execution_count": 3,
     "metadata": {},
     "output_type": "execute_result"
    }
   ],
   "source": [
    "p.loadURDF(\"plane.urdf\", [0, 0, -0.001], globalScaling=1)\n",
    "\n",
    "psm = Psm((0, 0, 0.1524),\n",
    "          p.getQuaternionFromEuler((0, 0, -90/180*np.pi)), \n",
    "          scaling=scaling)\n",
    "psm.reset_joint((0, 0, 0.10, 0, 0, 0))\n",
    "\n",
    "# psm = Psm((0.05, 0.24, 0.8524),\n",
    "#           p.getQuaternionFromEuler((0, 0, np.deg2rad(-(90+20)))), \n",
    "#           scaling=scaling)\n",
    "# psm.reset_joint((0, 0, 0.10, 0, 0, 0))\n",
    "\n",
    "# for info in get_joints_info(psm.body, psm.joints):\n",
    "#     print(info)"
   ]
  },
  {
   "cell_type": "code",
   "execution_count": 4,
   "metadata": {},
   "outputs": [
    {
     "name": "stdout",
     "output_type": "stream",
     "text": [
      "There are 16 joints.\n",
      "\n",
      "psm_yaw_link\n",
      "psm_pitch_end_link\n",
      "psm_main_insertion_link\n",
      "psm_tool_roll_link\n",
      "psm_tool_pitch_link\n",
      "psm_tool_yaw_link\n",
      "psm_tool_gripper1_link\n",
      "psm_tool_gripper2_link\n",
      "psm_tool_tip_link\n",
      "psm_pitch_back_link\n",
      "psm_pitch_bottom_link\n",
      "psm_pitch_top_link\n",
      "psm_pitch_front_link\n",
      "psm_remote_center_link\n",
      "psm_main_insertion_link_2\n",
      "psm_main_insertion_link_3\n"
     ]
    }
   ],
   "source": [
    "joints = get_joints(psm.body)\n",
    "print(\"There are {} joints.\\n\".format(len(joints)))\n",
    "\n",
    "for i in range(0, len(joints)):\n",
    "    print(get_link_name(psm.body, i))"
   ]
  },
  {
   "cell_type": "code",
   "execution_count": 5,
   "metadata": {},
   "outputs": [
    {
     "ename": "KeyboardInterrupt",
     "evalue": "",
     "output_type": "error",
     "traceback": [
      "\u001b[1;31m---------------------------------------------------------------------------\u001b[0m",
      "\u001b[1;31mKeyboardInterrupt\u001b[0m                         Traceback (most recent call last)",
      "\u001b[1;32m~\\AppData\\Local\\Temp\\ipykernel_167896\\4190117139.py\u001b[0m in \u001b[0;36m<module>\u001b[1;34m\u001b[0m\n\u001b[0;32m      4\u001b[0m \u001b[1;32mwhile\u001b[0m \u001b[1;32mTrue\u001b[0m\u001b[1;33m:\u001b[0m\u001b[1;33m\u001b[0m\u001b[1;33m\u001b[0m\u001b[0m\n\u001b[0;32m      5\u001b[0m     \u001b[0mp\u001b[0m\u001b[1;33m.\u001b[0m\u001b[0msetGravity\u001b[0m\u001b[1;33m(\u001b[0m\u001b[1;36m0\u001b[0m\u001b[1;33m,\u001b[0m \u001b[1;36m0\u001b[0m\u001b[1;33m,\u001b[0m \u001b[1;33m-\u001b[0m\u001b[1;36m10\u001b[0m\u001b[1;33m)\u001b[0m\u001b[1;33m\u001b[0m\u001b[1;33m\u001b[0m\u001b[0m\n\u001b[1;32m----> 6\u001b[1;33m     \u001b[0mtime\u001b[0m\u001b[1;33m.\u001b[0m\u001b[0msleep\u001b[0m\u001b[1;33m(\u001b[0m\u001b[1;36m0.01\u001b[0m\u001b[1;33m)\u001b[0m\u001b[1;33m\u001b[0m\u001b[1;33m\u001b[0m\u001b[0m\n\u001b[0m",
      "\u001b[1;31mKeyboardInterrupt\u001b[0m: "
     ]
    }
   ],
   "source": [
    "# continously run\n",
    "p.setRealTimeSimulation(1)\n",
    "\n",
    "while True:\n",
    "    p.setGravity(0, 0, -10)\n",
    "    time.sleep(0.01)"
   ]
  },
  {
   "cell_type": "markdown",
   "metadata": {},
   "source": [
    "## Forward Kinematics"
   ]
  },
  {
   "cell_type": "code",
   "execution_count": 6,
   "metadata": {},
   "outputs": [
    {
     "name": "stdout",
     "output_type": "stream",
     "text": [
      "[[ 0.          0.86602633 -0.4999984  -0.05674978]\n",
      " [ 1.          0.          0.          0.        ]\n",
      " [ 0.         -0.4999984  -0.86602633 -0.09829393]\n",
      " [ 0.          0.          0.          1.        ]]\n"
     ]
    }
   ],
   "source": [
    "# Test with predefined pose\n",
    "# original joint position; 0.jpg\n",
    "\n",
    "psm.move_joint([-0.52359879, 0., 0.12, 0., 0., 0.])\n",
    "step(0.5)\n",
    "print(psm.get_current_position())\n",
    "\n",
    "# Read from dVRK (get_position_current)\n",
    "# [[-0.0077    0.8686   -0.4955   -0.0567]\n",
    "#  [ 0.9999    0.0001   -0.0154   -0.0002]\n",
    "#  [-0.0133   -0.4956   -0.8685   -0.0982]\n",
    "#  [      0         0         0    1.0000]]\n",
    "\n",
    "# previously compute\n",
    "# [[-6.12323415e-17  8.66025396e-01 -5.00000013e-01 -5.67500001e-02]\n",
    "#  [ 1.00000000e+00 -3.06161708e-17 -1.75493441e-16 -1.35258490e-17]\n",
    "#  [-1.67289863e-16 -5.00000013e-01 -8.66025396e-01 -9.82938802e-02]\n",
    "#  [ 0.00000000e+00  0.00000000e+00  0.00000000e+00  1.00000000e+00]]"
   ]
  },
  {
   "cell_type": "code",
   "execution_count": 7,
   "metadata": {},
   "outputs": [
    {
     "name": "stdout",
     "output_type": "stream",
     "text": [
      "[[ 0.24721635  0.45989211 -0.85286771 -0.07974319]\n",
      " [ 0.69636632 -0.69636231 -0.17364755 -0.01623607]\n",
      " [-0.67376407 -0.55097984 -0.49240552 -0.04603995]\n",
      " [ 0.          0.          0.          1.        ]]\n"
     ]
    }
   ],
   "source": [
    "# simple joint position 2; 3.jpg\n",
    "\n",
    "psm.move_joint([-1.0471975511965976, 0.17453292519943295, 0.1, 0.7853981633974483, 0, 0])\n",
    "step(0.5)\n",
    "print(psm.get_current_position())\n",
    "\n",
    "# [[ 0.24721603  0.45989072 -0.85286855 -0.07974321]\n",
    "#  [ 0.69636423 -0.69636426 -0.17364817 -0.0162361 ]\n",
    "#  [-0.67376636 -0.55097853 -0.49240385 -0.04603976]\n",
    "#  [ 0.          0.          0.          1.        ]]"
   ]
  },
  {
   "cell_type": "code",
   "execution_count": 8,
   "metadata": {},
   "outputs": [
    {
     "name": "stdout",
     "output_type": "stream",
     "text": [
      "[[-0.21240865  0.6674063  -0.71375864 -0.07982791]\n",
      " [ 0.51633311 -0.54347764 -0.66183999 -0.01919341]\n",
      " [-0.82962804 -0.50911776 -0.22916462 -0.04237412]\n",
      " [ 0.          0.          0.          1.        ]]\n"
     ]
    }
   ],
   "source": [
    "# simple joint position 3; 4.jpg\n",
    "\n",
    "psm.move_joint([-1.0471975511965976, 0.17453292519943295, 0.1, 0.7853981633974483, 0.5235987755982988, 0.2617993877991494])\n",
    "step(0.5)\n",
    "print(psm.get_current_position())\n",
    "\n",
    "# [[-0.21233893  0.66737769 -0.71380613 -0.07982825]\n",
    "#  [ 0.51624502 -0.54359788 -0.66180997 -0.01919286]\n",
    "#  [-0.82970071 -0.50902688 -0.22910342 -0.0423738 ]\n",
    "#  [ 0.          0.          0.          1.        ]]"
   ]
  },
  {
   "cell_type": "markdown",
   "metadata": {},
   "source": [
    "## Open/Close Jaw"
   ]
  },
  {
   "cell_type": "code",
   "execution_count": 9,
   "metadata": {},
   "outputs": [
    {
     "name": "stdout",
     "output_type": "stream",
     "text": [
      "[[-0.21237897  0.66739447 -0.71377853 -0.07982805]\n",
      " [ 0.51629401 -0.54352949 -0.66182792 -0.01919317]\n",
      " [-0.82965997 -0.50907791 -0.22913753 -0.04237397]\n",
      " [ 0.          0.          0.          1.        ]]\n",
      "79.99977806973283\n"
     ]
    }
   ],
   "source": [
    "# open jaw test\n",
    "\n",
    "psm.open_jaw()\n",
    "step(0.5)\n",
    "print(psm.get_current_position())\n",
    "print(np.rad2deg(psm.get_current_jaw_position()))"
   ]
  },
  {
   "cell_type": "code",
   "execution_count": 10,
   "metadata": {},
   "outputs": [
    {
     "name": "stdout",
     "output_type": "stream",
     "text": [
      "0.00033455195737558293\n"
     ]
    }
   ],
   "source": [
    "# close jaw test\n",
    "\n",
    "psm.close_jaw()\n",
    "step(0.5)\n",
    "print(np.rad2deg(psm.get_current_jaw_position()))"
   ]
  },
  {
   "cell_type": "markdown",
   "metadata": {},
   "source": [
    "## Inverse Kinematics"
   ]
  },
  {
   "cell_type": "code",
   "execution_count": 11,
   "metadata": {},
   "outputs": [
    {
     "name": "stdout",
     "output_type": "stream",
     "text": [
      "[-0.06530336588883591, -0.008559288469798195, 0.11974462756013421, 5.336161886899193e-06, 0.008615981317905344, 0.06572188148609358]\n",
      "[[ 1.97890501e-06  9.99999913e-01  4.18186088e-04 -7.38978712e-03]\n",
      " [ 9.99999998e-01 -1.95500113e-06 -5.71612597e-05  8.90851021e-04]\n",
      " [-5.71604371e-05  4.18186200e-04 -9.99999911e-01 -1.12999432e-01]\n",
      " [ 0.00000000e+00  0.00000000e+00  0.00000000e+00  1.00000000e+00]]\n"
     ]
    }
   ],
   "source": [
    "# Inverse kinematics test\n",
    "# simple coord position 0; 5.jpg\n",
    "pose = np.array([\n",
    "    [ 4.33293348e-13,  1.00000000e+00,  4.52526905e-13, -1.33425265e-17],\n",
    "    [ 1.00000000e+00, -4.33293348e-13,  9.95143306e-14, -1.12816941e-17],\n",
    "    [ 9.95143306e-14,  4.52526905e-13, -1.00000000e+00, -1.13499997e-01],\n",
    "    [ 0.00000000e+00,  0.00000000e+00,  0.00000000e+00,  1.00000000e+00]\n",
    "])\n",
    "psm.move(pose)\n",
    "step(0.5)\n",
    "print(psm.get_current_joint_position())\n",
    "print(psm.get_current_position())\n",
    "\n",
    "# [ 0.00000000e+00  8.65586272e-15  1.19999997e-01  4.33293348e-13\n",
    "#  -1.08357767e-13  4.52504218e-13]"
   ]
  },
  {
   "cell_type": "code",
   "execution_count": 12,
   "metadata": {},
   "outputs": [
    {
     "name": "stdout",
     "output_type": "stream",
     "text": [
      "[0.3901241060161837, -0.0007022301592903893, 0.1304851208883563, 4.9369439711847e-07, 0.0007076108648892142, -0.38993256625719974]\n",
      "[[ 2.50385179e-06  9.99999982e-01  1.91569321e-04  4.71519083e-02]\n",
      " [ 1.00000000e+00 -2.50293832e-06 -4.76861133e-06  8.06152821e-05]\n",
      " [-4.76813175e-06  1.91569333e-04 -9.99999982e-01 -1.14669092e-01]\n",
      " [ 0.00000000e+00  0.00000000e+00  0.00000000e+00  1.00000000e+00]]\n"
     ]
    }
   ],
   "source": [
    "# simple coord position 1; 6.jpg\n",
    "pose = np.array([\n",
    "    [ 4.33293348e-13,  1.00000000e+00,  4.52526905e-13,  5.00000000e-02],\n",
    "    [ 1.00000000e+00, -4.33293348e-13,  9.95143306e-14, -1.12816941e-17],\n",
    "    [ 9.95143306e-14,  4.52526905e-13, -1.00000000e+00, -1.13499997e-01],\n",
    "    [ 0.00000000e+00,  0.00000000e+00,  0.00000000e+00,  1.00000000e+00]\n",
    "])\n",
    "psm.move(pose)\n",
    "step(0.5)\n",
    "print(psm.get_current_joint_position())\n",
    "print(psm.get_current_position())\n",
    "\n",
    "# [ 4.14949688e-01 -7.10542736e-15  1.30525197e-01  4.36665965e-13\n",
    "#   9.00240590e-14 -4.14949688e-01]"
   ]
  },
  {
   "cell_type": "markdown",
   "metadata": {},
   "source": [
    "## JIGSAWS Kinematics Record"
   ]
  },
  {
   "cell_type": "code",
   "execution_count": null,
   "metadata": {},
   "outputs": [
    {
     "name": "stderr",
     "output_type": "stream",
     "text": [
      " 47%|████████████████████████████████████████                                             | 1614/3420 [01:01<01:00, 29.90it/s]"
     ]
    }
   ],
   "source": [
    "# jigsaws test\n",
    "# import kinematics data transformed from JIGSAWS \n",
    "# (https://cirl.lcsr.jhu.edu/research/hmm/datasets/jigsaws_release/)\n",
    "\n",
    "joint_values = np.load('qs_jigsaws.npy')\n",
    "psm.close_jaw()\n",
    "step(1)\n",
    "\n",
    "start_time = time.time()\n",
    "for i in tqdm(range(len(joint_values))):\n",
    "    psm.move_joint(joint_values[i])\n",
    "    psm.close_jaw()\n",
    "    step(0.5)\n",
    "    _ = p.getCameraImage(128, 128)\n",
    "\n",
    "end_time = time.time()\n",
    "print(\"Used time: {:.4f}\".format(end_time - start_time))"
   ]
  },
  {
   "cell_type": "code",
   "execution_count": null,
   "metadata": {},
   "outputs": [],
   "source": [
    "_ = p.getCameraImage(512, 512)"
   ]
  },
  {
   "cell_type": "code",
   "execution_count": null,
   "metadata": {},
   "outputs": [],
   "source": []
  }
 ],
 "metadata": {
  "kernelspec": {
   "display_name": "Python 3 (ipykernel)",
   "language": "python",
   "name": "python3"
  },
  "language_info": {
   "codemirror_mode": {
    "name": "ipython",
    "version": 3
   },
   "file_extension": ".py",
   "mimetype": "text/x-python",
   "name": "python",
   "nbconvert_exporter": "python",
   "pygments_lexer": "ipython3",
   "version": "3.7.1"
  }
 },
 "nbformat": 4,
 "nbformat_minor": 4
}
